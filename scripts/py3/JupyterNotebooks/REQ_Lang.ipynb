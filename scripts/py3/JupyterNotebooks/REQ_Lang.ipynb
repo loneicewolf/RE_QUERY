{
 "cells": [
  {
   "cell_type": "code",
   "execution_count": 4,
   "id": "widespread-auckland",
   "metadata": {},
   "outputs": [
    {
     "data": {
      "application/vnd.jupyter.widget-view+json": {
       "model_id": "9570c68a96d14a768be6b8ea5ca4884b"
      }
     },
     "metadata": {},
     "output_type": "display_data"
    }
   ],
   "source": [
    "def F_getlines(in_file):\n",
    "    with open(in_file,'rt') as f:\n",
    "        lines = f.readlines()\n",
    "    return(lines)\n",
    "import string\n",
    "import ipywidgets as widgets\n",
    "from ipywidgets import HBox, VBox\n",
    "import numpy as np\n",
    "import matplotlib.pyplot as plt\n",
    "from IPython.display import display\n",
    "%matplotlib inline\n",
    "@widgets.interact\n",
    "def f(query      = \"hello world\", links_file = \"translate.txt\", REPLACE_VAR_QUERY=\"REPLACE_QUERY\"):\n",
    "    List_of_urls = F_getlines(links_file)\n",
    "    for url in List_of_urls:\n",
    "        url_clean = url.strip(string.whitespace)\n",
    "        query_clean = query.replace(' ','+')\n",
    "        url_clean_replaced = url_clean.replace(REPLACE_VAR_QUERY, query_clean)\n",
    "        print(url_clean_replaced)"
   ]
  }
 ],
 "metadata": {
  "kernelspec": {
   "display_name": "Python 3",
   "language": "python",
   "name": "python3"
  },
  "language_info": {
   "codemirror_mode": {
    "name": "ipython",
    "version": 3
   },
   "file_extension": ".py",
   "mimetype": "text/x-python",
   "name": "python",
   "nbconvert_exporter": "python",
   "pygments_lexer": "ipython3",
   "version": "3.9.2"
  }
 },
 "nbformat": 4,
 "nbformat_minor": 5
}
